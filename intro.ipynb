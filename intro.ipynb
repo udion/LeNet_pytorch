{
 "cells": [
  {
   "cell_type": "code",
   "execution_count": 11,
   "metadata": {
    "collapsed": true
   },
   "outputs": [],
   "source": [
    "import torch as tch\n",
    "from torch import autograd"
   ]
  },
  {
   "cell_type": "code",
   "execution_count": 8,
   "metadata": {},
   "outputs": [
    {
     "name": "stdout",
     "output_type": "stream",
     "text": [
      "\n",
      "-1.1848e-26  4.5723e-41 -1.1848e-26  4.5723e-41  0.0000e+00  0.0000e+00\n",
      " 0.0000e+00  0.0000e+00  0.0000e+00  0.0000e+00  0.0000e+00  0.0000e+00\n",
      " 0.0000e+00  0.0000e+00  0.0000e+00  0.0000e+00  0.0000e+00  0.0000e+00\n",
      " 0.0000e+00  0.0000e+00  0.0000e+00  0.0000e+00  0.0000e+00  0.0000e+00\n",
      " 0.0000e+00  1.6255e-43  1.1351e-43  0.0000e+00 -1.1848e-26  4.5723e-41\n",
      "-9.3544e+23  3.0644e-41 -9.6731e+23  3.0644e-41  6.8664e-44  0.0000e+00\n",
      "[torch.FloatTensor of size 6x6]\n",
      "\n"
     ]
    }
   ],
   "source": [
    "a1 = tch.Tensor(6,6)\n",
    "print(a1)"
   ]
  },
  {
   "cell_type": "code",
   "execution_count": 9,
   "metadata": {},
   "outputs": [
    {
     "name": "stdout",
     "output_type": "stream",
     "text": [
      "\n",
      " 0.5872  0.0279  0.2313  0.7905  0.6577  0.2489\n",
      " 0.2529  0.5860  0.6877  0.0157  0.0138  0.8735\n",
      " 0.3973  0.4544  0.8631  0.1011  0.8682  0.9558\n",
      " 0.8635  0.8142  0.7106  0.5953  0.2627  0.2349\n",
      " 0.5930  0.7063  0.4601  0.6565  0.9937  0.9896\n",
      " 0.0301  0.0464  0.7377  0.4010  0.6787  0.2290\n",
      "[torch.FloatTensor of size 6x6]\n",
      "\n"
     ]
    }
   ],
   "source": [
    "a2 = tch.rand(6,6)\n",
    "print(a2)"
   ]
  },
  {
   "cell_type": "code",
   "execution_count": 10,
   "metadata": {},
   "outputs": [
    {
     "data": {
      "text/plain": [
       "\n",
       " 5.8718e-01  2.7909e-02  2.3126e-01  7.9054e-01  6.5769e-01  2.4894e-01\n",
       " 2.5286e-01  5.8600e-01  6.8771e-01  1.5668e-02  1.3766e-02  8.7353e-01\n",
       " 3.9733e-01  4.5444e-01  8.6311e-01  1.0108e-01  8.6817e-01  9.5584e-01\n",
       " 8.6352e-01  8.1424e-01  7.1055e-01  5.9526e-01  2.6272e-01  2.3491e-01\n",
       " 5.9304e-01  7.0627e-01  4.6010e-01  6.5651e-01  9.9366e-01  9.8962e-01\n",
       "-9.3544e+23  4.6384e-02 -9.6731e+23  4.0097e-01  6.7866e-01  2.2904e-01\n",
       "[torch.FloatTensor of size 6x6]"
      ]
     },
     "execution_count": 10,
     "metadata": {},
     "output_type": "execute_result"
    }
   ],
   "source": [
    "a1+a2"
   ]
  },
  {
   "cell_type": "code",
   "execution_count": 13,
   "metadata": {},
   "outputs": [
    {
     "name": "stdout",
     "output_type": "stream",
     "text": [
      "torch.Size([128, 30])\n"
     ]
    }
   ],
   "source": [
    "m = tch.nn.Linear(20, 30)\n",
    "input = autograd.Variable(torch.randn(128, 20))\n",
    "output = m(input)\n",
    "print(output.size())\n"
   ]
  },
  {
   "cell_type": "code",
   "execution_count": 31,
   "metadata": {
    "collapsed": true
   },
   "outputs": [],
   "source": [
    "import torch\n",
    "from torch import autograd as agd\n",
    "import torch.nn as tchnn\n",
    "import torch.nn.functional as F\n",
    "import torch.optim as optm"
   ]
  },
  {
   "cell_type": "code",
   "execution_count": 26,
   "metadata": {},
   "outputs": [],
   "source": [
    "class LeNet5(tchnn.Module):\n",
    "    \n",
    "    def __init__(self):\n",
    "        super(LeNet5, self).__init__()\n",
    "        self.C1 = tchnn.Conv2d(1,6,5) #in-channel, out-channel, kernel-size\n",
    "        self.C3 = tchnn.Conv2d(6,16,5)\n",
    "        self.C5 = tchnn.Conv2d(16,120,5)\n",
    "        self.F6 = tchnn.Linear(120,84)\n",
    "        self.Ou = tchnn.Linear(84,10)\n",
    "        self.LossF = tchnn.CrossEntropyLoss()\n",
    "    \n",
    "    def forward(self, x, target):\n",
    "        x = F.max_pool2d(F.relu(self.C1(x)), 2) #till S2\n",
    "        x = F.max_pool2d(F.relu(self.C3(x)), 2) #till S4\n",
    "        x = F.relu(self.C5(x)) #till C5\n",
    "        x = F.relu(self.F6(x))\n",
    "        x = F.relu(self.Ou(x))\n",
    "        loss = self.LossF(x, target)\n",
    "        return x,loss\n",
    "        \n",
    "    def name(self):\n",
    "        return 'LeNet5'"
   ]
  },
  {
   "cell_type": "code",
   "execution_count": 27,
   "metadata": {
    "collapsed": true
   },
   "outputs": [],
   "source": [
    "model = LeNet5().cuda()"
   ]
  },
  {
   "cell_type": "code",
   "execution_count": 30,
   "metadata": {},
   "outputs": [
    {
     "name": "stdout",
     "output_type": "stream",
     "text": [
      "LeNet5 (\n",
      "  (C1): Conv2d(1, 6, kernel_size=(5, 5), stride=(1, 1))\n",
      "  (C3): Conv2d(6, 16, kernel_size=(5, 5), stride=(1, 1))\n",
      "  (C5): Conv2d(16, 120, kernel_size=(5, 5), stride=(1, 1))\n",
      "  (F6): Linear (120 -> 84)\n",
      "  (Ou): Linear (84 -> 10)\n",
      "  (LossF): CrossEntropyLoss (\n",
      "  )\n",
      ")\n"
     ]
    }
   ],
   "source": [
    "print(model)"
   ]
  },
  {
   "cell_type": "code",
   "execution_count": 33,
   "metadata": {},
   "outputs": [],
   "source": [
    "optimizer = optm.SGD(model.parameters(), lr=0.01, momentum=0.9)"
   ]
  },
  {
   "cell_type": "code",
   "execution_count": 61,
   "metadata": {},
   "outputs": [],
   "source": [
    "#loading data\n",
    "import os\n",
    "import struct\n",
    "import numpy as np\n",
    "import matplotlib as mpl\n",
    "import matplotlib.pyplot as plt\n",
    "\n",
    "def read(dataset = \"training\", path = \".\"):\n",
    "    \"\"\"\n",
    "    Python function for importing the MNIST data set.  It returns an iterator\n",
    "    of 2-tuples with the first element being the label and the second element\n",
    "    being a numpy.uint8 2D array of pixel data for the given image.\n",
    "    \"\"\"\n",
    "\n",
    "    if dataset is \"training\":\n",
    "        fname_img = os.path.join(path, 'train-images.idx3-ubyte')\n",
    "        fname_lbl = os.path.join(path, 'train-labels.idx1-ubyte')\n",
    "    elif dataset is \"testing\":\n",
    "        fname_img = os.path.join(path, 't10k-images.idx3-ubyte')\n",
    "        fname_lbl = os.path.join(path, 't10k-labels.idx1-ubyte')\n",
    "    else:\n",
    "        print(\"dataset must be 'testing' or 'training'\")\n",
    "\n",
    "    # Load everything in some numpy arrays\n",
    "    with open(fname_lbl, 'rb') as flbl:\n",
    "        magic, num = struct.unpack(\">II\", flbl.read(8))\n",
    "        lbl = np.fromfile(flbl, dtype=np.int8)\n",
    "\n",
    "    with open(fname_img, 'rb') as fimg:\n",
    "        magic, num, rows, cols = struct.unpack(\">IIII\", fimg.read(16))\n",
    "        img = np.fromfile(fimg, dtype=np.uint8).reshape(len(lbl), rows, cols)\n",
    "\n",
    "    get_img = lambda idx: (lbl[idx], img[idx])\n",
    "\n",
    "    # Create an iterator which returns each image in turn\n",
    "    for i in range(len(lbl)):\n",
    "        yield get_img(i)"
   ]
  },
  {
   "cell_type": "code",
   "execution_count": 70,
   "metadata": {},
   "outputs": [],
   "source": [
    "train_data = list(read(dataset='training', path='./MNIST_data'))\n",
    "test_data = list(read(dataset='testing', path='./MNIST_data'))\n",
    "#making data 32X32\n",
    "train_data32 = []\n",
    "test_data32 = []\n",
    "for x in train_data:\n",
    "    img = np.zeros([32,32])\n",
    "    img[2:30,2:30] = x[1]\n",
    "    train_data32.append((x[0],img))"
   ]
  },
  {
   "cell_type": "code",
   "execution_count": 72,
   "metadata": {},
   "outputs": [
    {
     "data": {
      "text/plain": [
       "array([[ 0.,  0.,  0., ...,  0.,  0.,  0.],\n",
       "       [ 0.,  0.,  0., ...,  0.,  0.,  0.],\n",
       "       [ 0.,  0.,  0., ...,  0.,  0.,  0.],\n",
       "       ..., \n",
       "       [ 0.,  0.,  0., ...,  0.,  0.,  0.],\n",
       "       [ 0.,  0.,  0., ...,  0.,  0.,  0.],\n",
       "       [ 0.,  0.,  0., ...,  0.,  0.,  0.]])"
      ]
     },
     "execution_count": 72,
     "metadata": {},
     "output_type": "execute_result"
    }
   ],
   "source": [
    "train_data32[0][1].shape"
   ]
  },
  {
   "cell_type": "code",
   "execution_count": 62,
   "metadata": {},
   "outputs": [
    {
     "data": {
      "image/png": "[encoded data removed]",
      "text/plain": [
       "<matplotlib.figure.Figure at 0x7f752826c7b8>"
      ]
     },
     "metadata": {},
     "output_type": "display_data"
    }
   ],
   "source": [
    "plt.imshow(train_data[0][1], cmap=mpl.cm.Greys)\n",
    "plt.show()"
   ]
  },
  {
   "cell_type": "code",
   "execution_count": 69,
   "metadata": {},
   "outputs": [
    {
     "data": {
      "image/png": "[encoded data removed]",
      "text/plain": [
       "<matplotlib.figure.Figure at 0x7f752812b0f0>"
      ]
     },
     "metadata": {},
     "output_type": "display_data"
    }
   ],
   "source": [
    "a = np.zeros([4,4])\n",
    "a[1:3,1:3] = np.ones([2,2])\n",
    "plt.imshow(a)\n",
    "plt.show()"
   ]
  }
 ],
 "metadata": {
  "kernelspec": {
   "display_name": "Python 3",
   "language": "python",
   "name": "python3"
  },
  "language_info": {
   "codemirror_mode": {
    "name": "ipython",
    "version": 3
   },
   "file_extension": ".py",
   "mimetype": "text/x-python",
   "name": "python",
   "nbconvert_exporter": "python",
   "pygments_lexer": "ipython3",
   "version": "3.6.2"
  }
 },
 "nbformat": 4,
 "nbformat_minor": 2
}
